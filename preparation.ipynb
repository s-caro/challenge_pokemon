{
 "cells": [
  {
   "cell_type": "code",
   "execution_count": null,
   "id": "d853caf8",
   "metadata": {},
   "outputs": [],
   "source": [
    "!pip install numpy\n",
    "!pip install pandas\n",
    "!pip install sklearn"
   ]
  },
  {
   "cell_type": "code",
   "execution_count": null,
   "id": "731444b4",
   "metadata": {},
   "outputs": [],
   "source": [
    "import pandas as pd\n",
    "from sklearn.model_selection import train_test_split"
   ]
  },
  {
   "cell_type": "code",
   "execution_count": null,
   "id": "a3440040",
   "metadata": {},
   "outputs": [],
   "source": [
    "# carichiamo il dataset\n",
    "dataset = pd.read_csv(\"combats.partial.csv\")"
   ]
  },
  {
   "cell_type": "markdown",
   "id": "cd712142",
   "metadata": {},
   "source": [
    "# Splitting"
   ]
  },
  {
   "cell_type": "code",
   "execution_count": null,
   "id": "0741dade",
   "metadata": {},
   "outputs": [],
   "source": [
    "# dividiamo il dataset in train set e test set\n",
    "dati_train, dati_test = train_test_split(dataset, test_size = 0.20, random_state = 100)"
   ]
  },
  {
   "cell_type": "code",
   "execution_count": null,
   "id": "554da36b",
   "metadata": {},
   "outputs": [],
   "source": [
    "dati_train.to_csv(\"train.csv\", index=False)"
   ]
  },
  {
   "cell_type": "code",
   "execution_count": null,
   "id": "b3ec2323",
   "metadata": {},
   "outputs": [],
   "source": [
    "dati_test.to_csv(\"test.csv\", index=False)"
   ]
  },
  {
   "cell_type": "code",
   "execution_count": null,
   "id": "0bde1f79",
   "metadata": {},
   "outputs": [],
   "source": []
  }
 ],
 "metadata": {
  "kernelspec": {
   "display_name": "Python 3",
   "language": "python",
   "name": "python3"
  },
  "language_info": {
   "codemirror_mode": {
    "name": "ipython",
    "version": 3
   },
   "file_extension": ".py",
   "mimetype": "text/x-python",
   "name": "python",
   "nbconvert_exporter": "python",
   "pygments_lexer": "ipython3",
   "version": "3.8.8"
  }
 },
 "nbformat": 4,
 "nbformat_minor": 5
}
