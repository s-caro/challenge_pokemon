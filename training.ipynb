{
 "cells": [
  {
   "cell_type": "code",
   "execution_count": null,
   "id": "c97cdaec",
   "metadata": {},
   "outputs": [],
   "source": [
    "!pip install numpy\n",
    "!pip install pandas\n",
    "!pip install sklearn\n",
    "!pip install seaborn\n",
    "!pip install matplotlib"
   ]
  },
  {
   "cell_type": "code",
   "execution_count": null,
   "id": "5560f4ba",
   "metadata": {},
   "outputs": [],
   "source": [
    "import numpy as np\n",
    "import pandas as pd\n",
    "import matplotlib.pyplot as plt\n",
    "import seaborn as sns\n",
    "\n",
    "from sklearn.preprocessing import StandardScaler\n",
    "from sklearn.model_selection import train_test_split\n",
    "from sklearn.preprocessing import LabelEncoder\n",
    "\n",
    "from sklearn.metrics import confusion_matrix\n",
    "from sklearn.metrics import plot_confusion_matrix, classification_report\n",
    "from sklearn.tree import DecisionTreeClassifier\n",
    "from sklearn.metrics import accuracy_score\n",
    "from sklearn.ensemble import RandomForestClassifier\n",
    "from sklearn.datasets import make_classification"
   ]
  },
  {
   "cell_type": "markdown",
   "id": "3f692ef1",
   "metadata": {},
   "source": [
    "# Importo dataset di train e test"
   ]
  },
  {
   "cell_type": "code",
   "execution_count": null,
   "id": "f8e00d32",
   "metadata": {},
   "outputs": [],
   "source": [
    "# importo train e test dataset\n",
    "train_dataset = pd.read_csv(\"train.csv\")\n",
    "test_dataset = pd.read_csv(\"test.csv\")"
   ]
  },
  {
   "cell_type": "code",
   "execution_count": null,
   "id": "68f1071f",
   "metadata": {},
   "outputs": [],
   "source": [
    "# prima vista del dataset, si possono vedere le colonne e alcuni valori contenuti\n",
    "train_dataset"
   ]
  },
  {
   "cell_type": "code",
   "execution_count": null,
   "id": "f815a67c",
   "metadata": {},
   "outputs": [],
   "source": [
    "# importo le stat dei vari pokemon\n",
    "pokemon = pd.read_csv(\"pokemon.csv\")"
   ]
  },
  {
   "cell_type": "code",
   "execution_count": null,
   "id": "9a95fafb",
   "metadata": {},
   "outputs": [],
   "source": [
    "# analisi del data per conoscere il tipo di dato per colonna, ci viene anche detto quanti sono complessivamente i valori non nulli\n",
    "# nella colonna\n",
    "train_dataset.info()"
   ]
  },
  {
   "cell_type": "code",
   "execution_count": null,
   "id": "da731fca",
   "metadata": {},
   "outputs": [],
   "source": [
    "# analisi del data per conoscere il tipo di dato per colonna, ci vengono forniti anche informazioni sui valori nulli presenti nel dataset\n",
    "pokemon.info()"
   ]
  },
  {
   "cell_type": "code",
   "execution_count": null,
   "id": "7de4cde2",
   "metadata": {},
   "outputs": [],
   "source": [
    "# si vuole capire quanti valori nulli siano effettivamente presenti nel dataset\n",
    "train_dataset.isna().sum()"
   ]
  },
  {
   "cell_type": "code",
   "execution_count": null,
   "id": "824d7748",
   "metadata": {},
   "outputs": [],
   "source": [
    "# si vuole capire quanti valori nulli siano effettivamente presenti nel dataset\n",
    "pokemon.isna().sum()"
   ]
  },
  {
   "cell_type": "markdown",
   "id": "5c7a0761",
   "metadata": {},
   "source": [
    "vi sono molti valori nulli nella colonna \"Type 2\", in fase di preprocessing si dovrà valutare come trattare questi valori"
   ]
  },
  {
   "cell_type": "markdown",
   "id": "246a3ee9",
   "metadata": {},
   "source": [
    "# Preprocessing"
   ]
  },
  {
   "cell_type": "code",
   "execution_count": null,
   "id": "c35f9beb",
   "metadata": {},
   "outputs": [],
   "source": [
    "# join del dataset di train contenente solo i risultati dei combattimenti con il dataset delle statistiche, prima per il primo\n",
    "# pokemon che attacca e poi per il secondo\n",
    "# il valore sul quale viene fatto il join è l'identificativo nel pokedex del pokemon\n",
    "train_dataset = train_dataset.join(pokemon.set_index(\"#\"), on=\"First_pokemon\")\n",
    "train_dataset = train_dataset.join(pokemon.set_index(\"#\"), on=\"Second_pokemon\", rsuffix=\"_second\")"
   ]
  },
  {
   "cell_type": "code",
   "execution_count": null,
   "id": "5c063a3e",
   "metadata": {
    "scrolled": true
   },
   "outputs": [],
   "source": [
    "# osserviamo come si modifica il dataset a seguito del join\n",
    "pd.set_option(\"display.max_columns\", None)\n",
    "train_dataset.head()"
   ]
  },
  {
   "cell_type": "code",
   "execution_count": null,
   "id": "3f4ab9d4",
   "metadata": {
    "scrolled": true
   },
   "outputs": [],
   "source": [
    "# ripeto tutto anche per il test dataset\n",
    "test_dataset = test_dataset.join(pokemon.set_index(\"#\"), on=\"First_pokemon\")\n",
    "test_dataset = test_dataset.join(pokemon.set_index(\"#\"), on=\"Second_pokemon\", rsuffix=\"_second\")\n",
    "test_dataset.head()"
   ]
  },
  {
   "cell_type": "code",
   "execution_count": null,
   "id": "55f08280",
   "metadata": {
    "scrolled": true
   },
   "outputs": [],
   "source": [
    "# controllo quanti siano i valori distinti per name, voglio vedere se sono univoci, in caso posso droppare la colonna perché non\n",
    "# influisce sul risultato finale\n",
    "pokemon['Name'].nunique()"
   ]
  },
  {
   "cell_type": "markdown",
   "id": "ea9f503e",
   "metadata": {},
   "source": [
    "su una tabella di 800 righe 799 contengono valori unici, l'analisi ha dato il risultato sperato"
   ]
  },
  {
   "cell_type": "code",
   "execution_count": null,
   "id": "14954f6f",
   "metadata": {},
   "outputs": [],
   "source": [
    "# il nome dei pokemon non è rilevante essendo unico per ogni pokemon, quindi si può droppare la colonna\n",
    "# sia il nome dei primo che del secondo pokemon\n",
    "train_dataset = train_dataset.drop('Name', axis=1)\n",
    "train_dataset = train_dataset.drop('Name_second', axis=1)\n",
    "\n",
    "#ripeto tutto per il dataset di test\n",
    "test_dataset = test_dataset.drop('Name', axis=1)\n",
    "test_dataset = test_dataset.drop('Name_second', axis=1)"
   ]
  },
  {
   "cell_type": "code",
   "execution_count": null,
   "id": "ef9e86b7",
   "metadata": {
    "scrolled": true
   },
   "outputs": [],
   "source": [
    "# analisi del data per conoscere il tipo di dato per colonna e i valori nulli\n",
    "test_dataset.info()"
   ]
  },
  {
   "cell_type": "code",
   "execution_count": null,
   "id": "2c39d889",
   "metadata": {
    "scrolled": true
   },
   "outputs": [],
   "source": [
    "# analisi del data per conoscere il tipo di dato per colonna e i valori nulli\n",
    "train_dataset.info()"
   ]
  },
  {
   "cell_type": "markdown",
   "id": "d7c74a7a",
   "metadata": {},
   "source": [
    "Ci sono molte righe che presentano null come valore per \"Type 2\"\n",
    "\n",
    "Quando il tipo 2 è nullo lo sostituisco con il tipo 1, perché (tenendo in considerazione il gioco) avere un pokemon con due tipi uguali è come avere un pokemon con un solo tipo, per esempio un pokemon \"type 1\"= foglia e \"type 2\"=foglia è come avere un pokemon che ha \"type 1\"= foglia e \"type 2\"=null, evito di droppare la colonna \"type 2\" perché preferisco costruire prima la heatmap e vedere la correlazione, in caso poi la droppo"
   ]
  },
  {
   "cell_type": "markdown",
   "id": "7b627a85",
   "metadata": {},
   "source": [
    "Un altro approccio poteva essere quello di droppare direttamente la colonna \"Type 2\" data l'elevata presenza di valori nulli, io ho preferito aspettare la creazione della heatmap per conoscere la correlazione prima di droppare la colonna"
   ]
  },
  {
   "cell_type": "code",
   "execution_count": null,
   "id": "32245576",
   "metadata": {},
   "outputs": [],
   "source": [
    "# modifica dei valori nulli nella colonna \"Type 2\", il valore nullo viene sostituito con il valore del \"Type 1\"\n",
    "\n",
    "train_dataset['Type 2'].fillna(train_dataset['Type 1'],inplace=True)\n",
    "train_dataset['Type 2_second'].fillna(train_dataset['Type 1_second'],inplace=True)\n",
    "\n",
    "\n",
    "test_dataset['Type 2'].fillna(test_dataset['Type 1'],inplace=True)\n",
    "test_dataset['Type 2_second'].fillna(test_dataset['Type 1_second'],inplace=True)"
   ]
  },
  {
   "cell_type": "code",
   "execution_count": null,
   "id": "3b211ebf",
   "metadata": {},
   "outputs": [],
   "source": [
    "# i valori delle righe per la colonna \"type 2\" sono state correttamente modificate, non sono più presenti valori nulli\n",
    "train_dataset.info()"
   ]
  },
  {
   "cell_type": "markdown",
   "id": "7e954876",
   "metadata": {},
   "source": [
    "## Modifico i valori della colonna \"Winner\", invece di riportare l'identificativo del pokemon vincente inserisco il valore \"1\" se ha vinto il primo pokemon e \"0\" se invece ha vinto il secondo pokemon\n",
    "### Legenda: \n",
    "### 1 -> ha vinto il primo\n",
    "### 0 -> ha vinto il secondo"
   ]
  },
  {
   "cell_type": "code",
   "execution_count": null,
   "id": "17907aec",
   "metadata": {},
   "outputs": [],
   "source": [
    "# ogni volta che il vincitore è il primo pokemon pongo campo \"winner\" pari a 1, 0 altrimenti\n",
    "for i in range(train_dataset.shape[0]):\n",
    "    if train_dataset.Winner[i] ==  train_dataset.First_pokemon[i]:\n",
    "        train_dataset.Winner[i] = 1\n",
    "    else:\n",
    "        train_dataset.Winner[i] = 0\n",
    "        \n",
    "# ripeto lo stesso anche per il test dataset\n",
    "\n",
    "for i in range(test_dataset.shape[0]):\n",
    "    if test_dataset.Winner[i] ==  test_dataset.First_pokemon[i]:\n",
    "        test_dataset.Winner[i] = 1\n",
    "    else:\n",
    "        test_dataset.Winner[i] = 0"
   ]
  },
  {
   "cell_type": "code",
   "execution_count": null,
   "id": "6e56ce90",
   "metadata": {},
   "outputs": [],
   "source": [
    "# controllo che effettivamente sia avvenuta la modifica\n",
    "test_dataset.head()"
   ]
  },
  {
   "cell_type": "code",
   "execution_count": null,
   "id": "ee04c990",
   "metadata": {},
   "outputs": [],
   "source": [
    "# dato che in \"Winner\" è già contenuta l'informazione relativa alla vittoria del primo o del secondo pokemon, il valore contenuto\n",
    "# in \"First_pokemon\" e in \"Second_pokemon\" non è più utile, quindi può essere droppato\n",
    "train_dataset = train_dataset.drop('First_pokemon', axis=1)\n",
    "train_dataset = train_dataset.drop('Second_pokemon', axis=1)\n",
    "\n",
    "#ripeto tutto per il dataset di test\n",
    "test_dataset = test_dataset.drop('First_pokemon', axis=1)\n",
    "test_dataset = test_dataset.drop('Second_pokemon', axis=1)"
   ]
  },
  {
   "cell_type": "code",
   "execution_count": null,
   "id": "7654d01b",
   "metadata": {},
   "outputs": [],
   "source": [
    "# le due colonne sono state correttamente droppate\n",
    "test_dataset.head()"
   ]
  },
  {
   "cell_type": "code",
   "execution_count": null,
   "id": "760b44ce",
   "metadata": {},
   "outputs": [],
   "source": [
    "# le due colonne sono state correttamente droppate\n",
    "train_dataset.head()"
   ]
  },
  {
   "cell_type": "markdown",
   "id": "656e1f99",
   "metadata": {},
   "source": [
    "# Encoding"
   ]
  },
  {
   "cell_type": "markdown",
   "id": "4e7b3994",
   "metadata": {},
   "source": [
    "Nella fase di encoding devo trasformare i valori non numerici in valori numerici"
   ]
  },
  {
   "cell_type": "markdown",
   "id": "0aef48a4",
   "metadata": {},
   "source": [
    "Creo due funzioni che mi restituiscono rispettivamente i nomi delle colonne di tipo object e bool (tutte le colonne non numeriche) per semplificare l'encoding"
   ]
  },
  {
   "cell_type": "code",
   "execution_count": null,
   "id": "16a19bee",
   "metadata": {},
   "outputs": [],
   "source": [
    "# funzione che restituisce i nomi di tutte le colonne di tipo object\n",
    "def get_categorical_columns(df):\n",
    "    return [column for column in df.columns if df.dtypes[column] == 'object']\n",
    "\n",
    "# funzione che restituisce i nomi di tutte le colonne di tipo bool\n",
    "def get_bool_columns(df):\n",
    "    return [column for column in df.columns if df.dtypes[column] == 'bool']"
   ]
  },
  {
   "cell_type": "code",
   "execution_count": null,
   "id": "b8da40ff",
   "metadata": {},
   "outputs": [],
   "source": [
    "# lista che contiene tutte le colonne con valori di tipo object\n",
    "\n",
    "categorical_features = get_categorical_columns(train_dataset)\n",
    "\n",
    "# lista che contiene tutte le colonne con valori di tipo bool\n",
    "\n",
    "binary_features = get_bool_columns(train_dataset)"
   ]
  },
  {
   "cell_type": "markdown",
   "id": "635c513c",
   "metadata": {},
   "source": [
    "Utilizzo il label encoder per tutte le features perché come classificatore utilizzerò Decision Tree e Random Forest, se avessi utilizzato la Logistic Regression avrei dovuto utilizzare OneHot per le features non binarie"
   ]
  },
  {
   "cell_type": "code",
   "execution_count": null,
   "id": "87380cb8",
   "metadata": {},
   "outputs": [],
   "source": [
    "# encoding per features nel test e train dataset\n",
    "labelEncoder_X = LabelEncoder()\n",
    "\n",
    "for element in categorical_features:\n",
    "    train_dataset[element] = labelEncoder_X.fit_transform(train_dataset[element])\n",
    "\n",
    "for element in categorical_features:\n",
    "    test_dataset[element] = labelEncoder_X.fit_transform(test_dataset[element])\n",
    "\n",
    "for element in binary_features:\n",
    "    train_dataset[element] = labelEncoder_X.fit_transform(train_dataset[element])\n",
    "\n",
    "for element in binary_features:\n",
    "    test_dataset[element] = labelEncoder_X.fit_transform(test_dataset[element])"
   ]
  },
  {
   "cell_type": "markdown",
   "id": "9c359bd5",
   "metadata": {},
   "source": [
    "# Features Engineering\n",
    "\n",
    "Una volta effettuato l'encoding dei valori è possibile tracciare grafici e generare una heatmap per procedere con un'analisi più approfondita delle features, al fine di individuare le features rilevanti e non rilevanti cosi da droppare quelle che costituiscono rumore e migliorare il risultato della classificazione"
   ]
  },
  {
   "cell_type": "code",
   "execution_count": null,
   "id": "9d5f5d68",
   "metadata": {},
   "outputs": [],
   "source": [
    "# vista del dataset a seguito dell'encoding\n",
    "test_dataset.head()"
   ]
  },
  {
   "cell_type": "code",
   "execution_count": null,
   "id": "75c98671",
   "metadata": {
    "scrolled": true
   },
   "outputs": [],
   "source": [
    "# vista del dataset a seguito dell'encoding\n",
    "train_dataset.head()"
   ]
  },
  {
   "cell_type": "markdown",
   "id": "ad082c5b",
   "metadata": {},
   "source": [
    "## Heatmap"
   ]
  },
  {
   "cell_type": "markdown",
   "id": "ba6740c5",
   "metadata": {},
   "source": [
    "Una volta fatto l'encoding vado a creare l'heatmap per conoscere le correlazioni tra le diverse features e capire quali features sia possibile droppare, in particolare cerco features che abbiano correlazione rasente lo zero con la colonna \"Winner\" o molto alta con un'altra features (esclusa ovviamente Winner)"
   ]
  },
  {
   "cell_type": "code",
   "execution_count": null,
   "id": "49b7bb49",
   "metadata": {
    "scrolled": true
   },
   "outputs": [],
   "source": [
    "# creazione della heatmap\n",
    "\n",
    "plt.figure(figsize=(25,10))\n",
    "correlation = train_dataset.corr()\n",
    "sns.heatmap(correlation, annot = True, linewidth = 2)"
   ]
  },
  {
   "cell_type": "markdown",
   "id": "884b0ecf",
   "metadata": {},
   "source": [
    "le features che hanno correlazione maggiore con \"Winner\" sono:\n",
    "- HP\n",
    "- Attack\n",
    "- Sp. Atk\n",
    "- Sp. Def\n",
    "- Speed\n",
    "- Legendary\n",
    "- (le stesse features ma per il secondo pokemon)\n",
    "\n",
    "le features che hanno minore correlazione con \"Winner\" sono:\n",
    "- Type 1\n",
    "- Type 2\n",
    "- Defense\n",
    "- Generation\n",
    "- (le stesse features ma per il secondo pokemon)\n",
    "\n",
    "queste ultime sono le features sulle quali concentreremo l'analisi per capire se vadano droppate o meno"
   ]
  },
  {
   "cell_type": "markdown",
   "id": "33467c9f",
   "metadata": {},
   "source": [
    "## Generation"
   ]
  },
  {
   "cell_type": "markdown",
   "id": "6bb4ef93",
   "metadata": {},
   "source": [
    "La generazione non ha un'alta correlazione con il risultato del combattimento, che in effetti ha senso come cosa perché i pokemon di generazione precedenti/successive non dovrebbero essere più o meno prestanti durante un combattimento (però questo essendo biased dal videogioco)"
   ]
  },
  {
   "cell_type": "markdown",
   "id": "49ae94e5",
   "metadata": {},
   "source": [
    "Oltre all'analisi dei risultati delle heatmap vado anche a tracciare i grafici relativi alla generation per capire se vi siano altre evidenze oltre alla bassa correlazione che possano giustificare l'eliminazione di questa colonna dal dataset"
   ]
  },
  {
   "cell_type": "code",
   "execution_count": null,
   "id": "b7f644dd",
   "metadata": {},
   "outputs": [],
   "source": [
    "# il grafico mostra che la distribuzione dell'attributo generation è abbastanza uniforme, a conferma che la sua eliminazione\n",
    "# sia corretta (non c'è una generazione il cui numero di vittorie e sconfitte sia particolarmente sbilanciato)\n",
    "sns.countplot(x=\"Generation\", hue=\"Winner\", data=train_dataset)\n",
    "plt.show()"
   ]
  },
  {
   "cell_type": "code",
   "execution_count": null,
   "id": "fb9b9519",
   "metadata": {},
   "outputs": [],
   "source": [
    "# il grafico mostra che la distribuzione dell'attributo generation è abbastanza uniforme, a conferma che la sua eliminazione\n",
    "# sia corretta (non c'è una generazione il cui numero di vittorie e sconfitte sia particolarmente sbilanciato)\n",
    "sns.countplot(x=\"Generation_second\", hue=\"Winner\", data=train_dataset)\n",
    "plt.show()"
   ]
  },
  {
   "cell_type": "code",
   "execution_count": null,
   "id": "197a40e2",
   "metadata": {},
   "outputs": [],
   "source": [
    "# la correlazione tra 'Winner' e 'Generation' è bassa e la distribuzione di \"Generation\" è uniforme per cui si può droppare\n",
    "# la colonna\n",
    "train_dataset = train_dataset.drop('Generation', axis=1)\n",
    "train_dataset = train_dataset.drop('Generation_second', axis=1)\n",
    "\n",
    "#ripeto tutto per il dataset di test\n",
    "test_dataset = test_dataset.drop('Generation', axis=1)\n",
    "test_dataset = test_dataset.drop('Generation_second', axis=1)"
   ]
  },
  {
   "cell_type": "markdown",
   "id": "86e77ddb",
   "metadata": {},
   "source": [
    "## Type"
   ]
  },
  {
   "cell_type": "markdown",
   "id": "b46ba102",
   "metadata": {},
   "source": [
    "Nel videogioco il type influenza molto l'esito di una battaglia, però nel dataset non si fa per esempio riferimento alla mosse utilizzate (vero motivo per cui il type dovrebbe influenzare) quindi è utile andare ad analizzare nel dettaglio questa feature (per evitare di essere biased dal gioco)\n",
    "\n",
    "La heatmap, data la bassa correlazione, indica che si può droppare la feature, un'analisi con i grafici (distribuzioni) confermerà questa ipotesi"
   ]
  },
  {
   "cell_type": "code",
   "execution_count": null,
   "id": "07847e87",
   "metadata": {
    "scrolled": true
   },
   "outputs": [],
   "source": [
    "# la distribuzione è abbastanza uniforme, c'è giusto un picco tra il 15-esimo e il 20-esimo tipo, però si può considerare\n",
    "# poco significativa come caratteristica per determinare il vincitore in una battaglia\n",
    "ax = sns.displot(x=\"Type 1\", hue=\"Winner\", data=train_dataset, kind=\"kde\")\n",
    "plt.xlabel('Type 1')\n",
    "plt.ylabel('Density ')\n",
    "plt.title(\"Total Pokemon by Type 1\")"
   ]
  },
  {
   "cell_type": "code",
   "execution_count": null,
   "id": "253c2048",
   "metadata": {},
   "outputs": [],
   "source": [
    "# valgono le stesse considerazioni fatte per il grafico precedente, anche se qua il picco sta tra il decimo e il quindicesimo tipo\n",
    "ax = sns.displot(x=\"Type 1_second\", hue=\"Winner\", data=train_dataset, kind=\"kde\")\n",
    "plt.xlabel('Type 1_second')\n",
    "plt.ylabel('Density ')\n",
    "plt.title(\"Total Pokemon by Type 1_second\")"
   ]
  },
  {
   "cell_type": "markdown",
   "id": "4a564936",
   "metadata": {},
   "source": [
    "Non tracciamo anche i grafici per il Type 2, la correlazione del Type 2 con il Type 1 è particolarmente alta (vedi heatmap) per cui sarebbe stata comunque droppata perché basta solo una delle due caratteristiche per addestrare il modello entrambe sono superflue, ma abbiamo visto come anche Type 1 non sia rilevante\n",
    "\n",
    "Vengono quindi droppate entrambe"
   ]
  },
  {
   "cell_type": "code",
   "execution_count": null,
   "id": "9c738118",
   "metadata": {},
   "outputs": [],
   "source": [
    "# elimino le features relative al type dal dataset\n",
    "\n",
    "train_dataset = train_dataset.drop('Type 1', axis=1)\n",
    "train_dataset = train_dataset.drop('Type 1_second', axis=1)\n",
    "\n",
    "train_dataset = train_dataset.drop('Type 2', axis=1)\n",
    "train_dataset = train_dataset.drop('Type 2_second', axis=1)\n",
    "\n",
    "#ripeto tutto per il dataset di test\n",
    "test_dataset = test_dataset.drop('Type 1', axis=1)\n",
    "test_dataset = test_dataset.drop('Type 1_second', axis=1)\n",
    "\n",
    "test_dataset = test_dataset.drop('Type 2', axis=1)\n",
    "test_dataset = test_dataset.drop('Type 2_second', axis=1)"
   ]
  },
  {
   "cell_type": "markdown",
   "id": "ca683c0d",
   "metadata": {},
   "source": [
    "# Statistiche dei pokemon"
   ]
  },
  {
   "cell_type": "markdown",
   "id": "0268e703",
   "metadata": {},
   "source": [
    "E' interessante analizzare la differenza dei valori delle carattistiche dei pokemon che si scontrano in un combattimento, in questo modo si riesce a vedere in un solo grafico come i valori delle statistiche dei due pokemon influenzino il risultato finale del combattimento\n",
    "\n",
    "Da questo punto di vista un combattimento tra due pokemon che hanno rispettivamente att_1 = 5 e att_2 = 7 è simile ad un combattimento con due pokemon che hanno rispettivamente att_1 = 55 e att_2 = 57, così dovrebbe essere evidenziata l'importanza delle varie statistiche rispetto al risultato finale (in questo esempio è stato analizzato solo l'attacco, però lo stesso discorso vale per tutte le statistiche del pokemon)"
   ]
  },
  {
   "cell_type": "code",
   "execution_count": null,
   "id": "30e75189",
   "metadata": {},
   "outputs": [],
   "source": [
    "# creaiamo una nuova colonna (1 per ogni differenza di valori) rappresentante la differenza dei valori degli attributi dei due pokemon\n",
    "train_dataset[\"Differenza_attacco\"] = train_dataset.Attack - train_dataset.Attack_second\n",
    "train_dataset[\"Differenza_difesa\"] = train_dataset.Defense - train_dataset.Defense_second\n",
    "train_dataset[\"Differenza_speed\"] = train_dataset.Speed - train_dataset.Speed_second\n",
    "train_dataset[\"Differenza_attacco_special\"] = train_dataset[\"Sp. Atk\"] - train_dataset[\"Sp. Atk_second\"]\n",
    "train_dataset[\"Differenza_difesa_special\"] = train_dataset[\"Sp. Def\"] - train_dataset[\"Sp. Def_second\"]\n",
    "train_dataset[\"Differenza_Hp\"] = train_dataset.HP - train_dataset.HP_second"
   ]
  },
  {
   "cell_type": "code",
   "execution_count": null,
   "id": "28b36e6d",
   "metadata": {},
   "outputs": [],
   "source": [
    "# stesso lavoro per il datest di test \n",
    "test_dataset[\"Differenza_attacco\"] = test_dataset.Attack - test_dataset.Attack_second\n",
    "test_dataset[\"Differenza_difesa\"] = test_dataset.Defense - test_dataset.Defense_second\n",
    "test_dataset[\"Differenza_speed\"] = test_dataset.Speed - test_dataset.Speed_second\n",
    "test_dataset[\"Differenza_attacco_special\"] = test_dataset[\"Sp. Atk\"] - test_dataset[\"Sp. Atk_second\"]\n",
    "test_dataset[\"Differenza_difesa_special\"] = test_dataset[\"Sp. Def\"] - test_dataset[\"Sp. Def_second\"]\n",
    "test_dataset[\"Differenza_Hp\"] = test_dataset.HP - test_dataset.HP_second"
   ]
  },
  {
   "cell_type": "markdown",
   "id": "3f3d799b",
   "metadata": {},
   "source": [
    "Tracciamo i grafici relativi alle distribuzioni, sull'asse x abbiamo i valori assunti dalle varie differenze e sull'asse y invece la densità di combattimenti che presentano quel determinato valore (ci sono due curve per ogni grafico, una rappresenta i combattimenti in cui il primo pokemon ha perso e l'altra quelli in cui il primo pokemon ha vinto)\n",
    "\n",
    "Per vedere se una feature è rilevante dobbiamo avere che le distribuzioni relative a 0 e 1 sono visibilmente distinte (posizionate in posti diversi del grafico) perché ciò vuol dire che un pokemon vince/perde in base ai valori della statistica presa in considerazione\n",
    "\n",
    "Se invece i due grafici (relativi a 0 e 1) sono quasi sovrapposti vuol dire che a parità di differenza di attacco/difesa/etc. il pokemon ha la stessa probabilità di vincere/perdere una battaglia e quindi quella caratteristica del pokemon non influenza il risultato finale, evidenza che quella feature possa essere droppata"
   ]
  },
  {
   "cell_type": "code",
   "execution_count": null,
   "id": "eb62d9a3",
   "metadata": {},
   "outputs": [],
   "source": [
    "# andiamo a vedere le distribuzioni per le varie differenze per vedere quali valori effettivamente siano rilevanti per l'analisi\n",
    "sns.displot(x=\"Differenza_attacco\", hue=\"Winner\", data=train_dataset, kind=\"kde\")\n",
    "plt.show()\n",
    "sns.displot(x=\"Differenza_difesa\", hue=\"Winner\", data=train_dataset, kind=\"kde\")\n",
    "plt.show()\n",
    "sns.displot(x=\"Differenza_speed\", hue=\"Winner\", data=train_dataset, kind=\"kde\")\n",
    "plt.show()\n",
    "sns.displot(x=\"Differenza_attacco_special\", hue=\"Winner\", data=train_dataset, kind=\"kde\")\n",
    "plt.show()\n",
    "sns.displot(x=\"Differenza_difesa_special\", hue=\"Winner\", data=train_dataset, kind=\"kde\")\n",
    "plt.show()\n",
    "sns.displot(x=\"Differenza_Hp\", hue=\"Winner\", data=train_dataset, kind=\"kde\")\n",
    "plt.show()"
   ]
  },
  {
   "cell_type": "markdown",
   "id": "5394c2da",
   "metadata": {},
   "source": [
    "### Defense"
   ]
  },
  {
   "cell_type": "markdown",
   "id": "ea33a41b",
   "metadata": {},
   "source": [
    "Dalle varie distribuzioni si nota immediatamente che le curve realtive a \"Differenze_difesa\" sono centrate su 0 e le due curve sono quasi coincidenti, ciò vuol dire che la feature non è particolarmente rilevante per la nostra analisi\n",
    "\n",
    "Già dalla heatmap avevamo notato che i valori di Defense per il primo e il secondo pokemon erano poco correlati con il valore di Winner, quindi sembra abbastanza evidente che la feature non sia rilevante per il training del modello\n",
    "\n",
    "Tutte le altre caratteristiche hanno curve decisamente distinte, in particolare \"Differenza_speed\", già nella lettura della heatmap era stato sottolineata l'alta correlazione tra \"Winner\" e \"Speed\""
   ]
  },
  {
   "cell_type": "code",
   "execution_count": null,
   "id": "b2457324",
   "metadata": {},
   "outputs": [],
   "source": [
    "# per essere certi se droppare la feature sulla difesa andiamo a vedere anche la heatmap relativa al dataset contenente anche\n",
    "# le differenze\n",
    "\n",
    "plt.figure(figsize=(25,10))\n",
    "correlation = train_dataset.corr()\n",
    "sns.heatmap(correlation, annot = True, linewidth = 2)"
   ]
  },
  {
   "cell_type": "markdown",
   "id": "552866dc",
   "metadata": {},
   "source": [
    "Dalla heatmap si può notare come la correlazione sia bassa anche per \"Differenza_difesa\" con \"winner\", per \"Defense\" e \"Defense_second\" l'avevamo già visto prima\n",
    "\n",
    "Si possono quindi droppare queste colonne"
   ]
  },
  {
   "cell_type": "code",
   "execution_count": null,
   "id": "43fdc6fe",
   "metadata": {
    "scrolled": true
   },
   "outputs": [],
   "source": [
    "# droppo la colonna relativa a Defense/Defense_second/Differenza_difesa\n",
    "\n",
    "train_dataset = train_dataset.drop('Defense', axis=1)\n",
    "train_dataset = train_dataset.drop('Differenza_difesa', axis=1)\n",
    "train_dataset = train_dataset.drop('Defense_second', axis=1)\n",
    "\n",
    "# ripeto tutto anche per il test dataset\n",
    "test_dataset = test_dataset.drop('Defense', axis=1)\n",
    "test_dataset = test_dataset.drop('Differenza_difesa', axis=1)\n",
    "test_dataset = test_dataset.drop('Defense_second', axis=1)"
   ]
  },
  {
   "cell_type": "markdown",
   "id": "e28f4c4e",
   "metadata": {},
   "source": [
    "#### L'analisi relativa alla feature che avevano una bassa correlazione con la colonna \"Winner\" è conclusa e sono state droppate tutte le colonne che non sembravano essere rilevanti per il risultato del combattimento"
   ]
  },
  {
   "cell_type": "markdown",
   "id": "c3089f22",
   "metadata": {},
   "source": [
    "### Analizzo ora altre due feature: \"Legendary\" e \"Winner\"\n",
    "\n",
    "La prima la analizzo per capire quanto il fatto che un pokemon sia leggendario effettivamente influenzi il risultato finale, nel videogioco i pokemon leggendari sono pokemon rari e molto forti (si potrebbe quindi pensare che l'essere leggendario effettivamente sia un vantaggio per un pokemon in combattimento), oltre al valore della correlazione nella heatmap vado anche a studiare i grafici relativi ai valori di \"Legendary\" per confermare/confutare l'importanza di questa feature nella classificazione\n",
    "\n",
    "La feature Winner la analizzo per capire se le vittorie dei combattimenti sono distribuite in maniera abbastanza uniforme tra i due pokemon, sia per capire se cominciare per primo possa portare un vantaggio/svantaggio nel combattimento che per capire se vi sono abbastanza dati per addestrare correttamente il modello a riconoscere entrambe le tipologie di vincitore"
   ]
  },
  {
   "cell_type": "markdown",
   "id": "484d256c",
   "metadata": {},
   "source": [
    "## Legendary"
   ]
  },
  {
   "cell_type": "markdown",
   "id": "404bdda6",
   "metadata": {},
   "source": [
    "Il primo grafico analizza la quantità di vittorie/sconfitte per i pokemon che attaccano per primi distinguendo se questi siano leggendari o meno"
   ]
  },
  {
   "cell_type": "code",
   "execution_count": null,
   "id": "383da9bb",
   "metadata": {
    "scrolled": true
   },
   "outputs": [],
   "source": [
    "# distribuzione delle vittorie/sconfitte per pokemon leggendari e non\n",
    "sns.countplot(x=\"Legendary\", hue=\"Winner\", data=train_dataset)\n",
    "plt.show()"
   ]
  },
  {
   "cell_type": "markdown",
   "id": "00198c38",
   "metadata": {},
   "source": [
    "Quando il pokemon non è leggendario la differenza tra i combattimenti persi e quelli vinti non è eccessivamente rilevante, è interessante invece vedere che quando un pokemon è leggendario tende a vincere più combattimenti"
   ]
  },
  {
   "cell_type": "markdown",
   "id": "d2a92379",
   "metadata": {},
   "source": [
    "Il secondo grafico analizza la quantità di vittorie/sconfitte per i pokemon che attaccano dopo distinguendo se questi siano leggendari o meno"
   ]
  },
  {
   "cell_type": "code",
   "execution_count": null,
   "id": "7a22ea13",
   "metadata": {
    "scrolled": true
   },
   "outputs": [],
   "source": [
    "# distribuzione delle vittorie per pokemon leggendari e non\n",
    "sns.countplot(x=\"Legendary_second\", hue=\"Winner\", data=train_dataset)\n",
    "plt.show()"
   ]
  },
  {
   "cell_type": "markdown",
   "id": "e1a77531",
   "metadata": {},
   "source": [
    "Quando il pokemon non è leggendario la differenza tra i combattimenti persi e quelli vinti non è eccessivamente rilevante, è interessante invece vedere che quando un pokemon è leggendario tende a vincere più combattimenti (stessa considerazione fatta per il primo pokemon)"
   ]
  },
  {
   "cell_type": "markdown",
   "id": "c7d00b13",
   "metadata": {},
   "source": [
    "Potrebbe essere più interessante però vedere in un solo grafico la caratteristica dei due pokemon e il numero di vittorie/sconfitte, per questo creo una nuova colonna nel dataset contenente il valore della differenza tra i valori di \"Legendary\" tra il primo e il secondo pokemon (\"Legendary\" - \"Legendary_second\")\n",
    "\n",
    "Nello specifico il valore \"Diffenza_legendary\" assumerà i seguenti valori:\n",
    "- 1 -> se il primo pokemon è leggendario e il secondo no\n",
    "- 0 -> se entrambi i pokemon sono leggendari/nessuno dei due è leggendario (assumiamo che se entrambi sono leggendari è come se entrambi non lo fossero)\n",
    "- -1 -> se il primo pokemon non è leggendario e il secondo si"
   ]
  },
  {
   "cell_type": "code",
   "execution_count": null,
   "id": "b540cc1c",
   "metadata": {},
   "outputs": [],
   "source": [
    "# Creo la nuova colonna nel dataset di training\n",
    "train_dataset['Differenza_legendary'] = train_dataset['Legendary'] - train_dataset['Legendary_second']\n",
    "\n",
    "# Ripeto lo stesso anche per il dataset di testing\n",
    "test_dataset['Differenza_legendary'] = test_dataset['Legendary'] - test_dataset['Legendary_second']"
   ]
  },
  {
   "cell_type": "markdown",
   "id": "53bfa0dc",
   "metadata": {},
   "source": [
    "Vado adesso a graficare i valori della nuova colonna rispetto al numero di vittorie del primo o del secondo pokemon"
   ]
  },
  {
   "cell_type": "code",
   "execution_count": null,
   "id": "79174f9c",
   "metadata": {},
   "outputs": [],
   "source": [
    "# distribuzione delle vittorie/sconfitte per pokemon leggendari e non (dati relativi sia al primo che al secondo pokemon)\n",
    "sns.countplot(x=\"Differenza_legendary\", hue=\"Winner\", data=train_dataset)\n",
    "plt.show()"
   ]
  },
  {
   "cell_type": "markdown",
   "id": "e975e02a",
   "metadata": {},
   "source": [
    "Anche da questo grafico si rende evidente come l'essere leggendario in effetti avvantaggi un pokemon in battaglia, quindi non conviene droppare la feature perché sembra essere rilevante nell'addestramento del modello\n",
    "\n",
    "Vado però a generare anche l'heatmap, perché a questo punto \"Differenza_legendary\" codifica le informazioni presenti in \"Legendary\" e \"Legendary_second\", quindi potrebbe essere utile droppare queste due colonne per diminuire la complessità del modello"
   ]
  },
  {
   "cell_type": "code",
   "execution_count": null,
   "id": "61ab9103",
   "metadata": {
    "scrolled": true
   },
   "outputs": [],
   "source": [
    "# Creazione della heatmap per vedere la correlazione tra \"Differenza_legendary/Legendary/Legendary_second\"\n",
    "plt.figure(figsize=(25,10))\n",
    "correlation = train_dataset.corr()\n",
    "sns.heatmap(correlation, annot = True, linewidth = 2)"
   ]
  },
  {
   "cell_type": "markdown",
   "id": "cf056e0d",
   "metadata": {},
   "source": [
    "Come ipotizzato la correlazione tra \"Differenza_legendary\" e \"Legendary\"/\"Legendary_second\" è molto elevato e la colonna \"Differenza_legendary\" ha una correlazione maggiore delle altre due con \"Winner\" quindi possiamo droppare la colonne \"Legendary\" e \"Legendary_second\" senza perdite di informazioni rilevanti al fine della classificazione"
   ]
  },
  {
   "cell_type": "code",
   "execution_count": null,
   "id": "0b69d81d",
   "metadata": {},
   "outputs": [],
   "source": [
    "# droppo la colonna relativa a \"Legendary\" e \"Legendary_second\"\n",
    "\n",
    "train_dataset = train_dataset.drop('Legendary', axis=1)\n",
    "train_dataset = train_dataset.drop('Legendary_second', axis=1)\n",
    "\n",
    "\n",
    "# ripeto tutto anche per il test dataset\n",
    "test_dataset = test_dataset.drop('Legendary', axis=1)\n",
    "test_dataset = test_dataset.drop('Legendary_second', axis=1)"
   ]
  },
  {
   "cell_type": "markdown",
   "id": "92dc0a26",
   "metadata": {},
   "source": [
    "## Winner"
   ]
  },
  {
   "cell_type": "markdown",
   "id": "c160efd8",
   "metadata": {},
   "source": [
    "Procedo con l'analisi dei valori della colonna \"Winner\", come specificato prima questa analisi è finalizzata a capire se il database sia equilibrato (numero di esempi per le vittorie del primo pokemon e del secondo simili), questo perché teoricamente il classificatore funziona bene se ha visto abbastanza esempi di entrambe le categorie (primo vincitore-secondo vincitore).\n",
    "\n",
    "Inoltre può essere utile per capire se iniziare per primo possa essere un vantaggio/svantaggio per il pokemon"
   ]
  },
  {
   "cell_type": "markdown",
   "id": "781f5ff2",
   "metadata": {},
   "source": [
    "### 1 = il primo vince il combattimento\n",
    "### 0 = il secondo vince il combattimento"
   ]
  },
  {
   "cell_type": "code",
   "execution_count": null,
   "id": "46b1c108",
   "metadata": {
    "scrolled": true
   },
   "outputs": [],
   "source": [
    "# il grafico mostra il numero di esempi che hanno come vincitore rispettivamente il primo e il secondo pokemon\n",
    "sns.countplot(x=\"Winner\", data=train_dataset)\n",
    "plt.show()"
   ]
  },
  {
   "cell_type": "markdown",
   "id": "079a045c",
   "metadata": {},
   "source": [
    "Il numero di esempi per le due colonne è abbastanza simile, quindi entrambi i casi dovrebbero essere classificati correttamente\n",
    "\n",
    "Il numero di esempi nei quali il pokemon che muove per secondo vince è maggiore, ciò potrebbe indicare un leggero vantaggio nell'attaccare dopo, però la differenza è veramente minima rispetto al numero totale di esempi"
   ]
  },
  {
   "cell_type": "markdown",
   "id": "df63dff9",
   "metadata": {},
   "source": [
    "#### Controllo un'ultima volta in dataset di train e test per verificare che effettivamente tutte le modifiche fatte fino ad ora ci siano"
   ]
  },
  {
   "cell_type": "code",
   "execution_count": null,
   "id": "9ab70df4",
   "metadata": {
    "scrolled": true
   },
   "outputs": [],
   "source": [
    "train_dataset"
   ]
  },
  {
   "cell_type": "code",
   "execution_count": null,
   "id": "aefd02d0",
   "metadata": {},
   "outputs": [],
   "source": [
    "test_dataset"
   ]
  },
  {
   "cell_type": "markdown",
   "id": "f59ad91a",
   "metadata": {},
   "source": [
    "# Training"
   ]
  },
  {
   "cell_type": "code",
   "execution_count": null,
   "id": "d6d0aab2",
   "metadata": {},
   "outputs": [],
   "source": [
    "y_train = train_dataset.Winner          \n",
    "X_train = train_dataset.drop(['Winner'], axis=1)  \n",
    "\n",
    "y_test = test_dataset.Winner         \n",
    "X_test = test_dataset.drop(['Winner'], axis=1)"
   ]
  },
  {
   "cell_type": "markdown",
   "id": "769a0a2c",
   "metadata": {},
   "source": [
    "## Decision Tree"
   ]
  },
  {
   "cell_type": "markdown",
   "id": "97da4c3c",
   "metadata": {},
   "source": [
    "Il primo modello utilizzato per la creazione del classificatore è un Decision Tree"
   ]
  },
  {
   "cell_type": "code",
   "execution_count": null,
   "id": "079b9dc5",
   "metadata": {
    "scrolled": true
   },
   "outputs": [],
   "source": [
    "tree = DecisionTreeClassifier()\n",
    "tree.fit(X_train, y_train)\n",
    "\n",
    "\n",
    "y_pred = tree.predict(X_test)\n",
    "accuracy_lr = tree.score(X_test,y_test)\n",
    "\n",
    "print(tree)\n",
    "print('\\n')\n",
    "print(\"Accuracy: {:.3f}%\".format(accuracy_lr*100))"
   ]
  },
  {
   "cell_type": "markdown",
   "id": "4b140dc3",
   "metadata": {},
   "source": [
    "L'accuracy del modello non è male, per avere maggiori informazioni sulla classificazione vado ad analizzare:\n",
    "- la confusion matrix che ci mostra il numero di falsi positivi/negativi oltre al numero di combattimenti correttamente classificati\n",
    "- la precision\n",
    "- la recall\n",
    "- f1-score"
   ]
  },
  {
   "cell_type": "code",
   "execution_count": null,
   "id": "8b2bbe5c",
   "metadata": {
    "scrolled": true
   },
   "outputs": [],
   "source": [
    "print('\\n')\n",
    "cm_lr = confusion_matrix(y_test,tree.predict(X_test))\n",
    "f, ax = plt.subplots(figsize = (5,5))\n",
    "sns.heatmap(cm_lr, annot = True, linewidths = 0.5, color = \"red\", fmt = \".0f\", ax=ax)\n",
    "plt.xlabel(\"y_predicted\")\n",
    "plt.ylabel(\"y_true\")\n",
    "plt.title(\"Confusion Matrix of Decision Tree Classifier\")\n",
    "plt.show()\n",
    "print('\\n\\n')\n",
    "print(classification_report(y_test,y_pred))\n",
    "print('\\n\\n')"
   ]
  },
  {
   "cell_type": "markdown",
   "id": "9a0b01b5",
   "metadata": {},
   "source": [
    "## Random forest"
   ]
  },
  {
   "cell_type": "markdown",
   "id": "cf4faab6",
   "metadata": {},
   "source": [
    "Oltre al Decision Tree utilizzo anche la Random Forest come metodo per la classificazione. Questo modello non è stato spiegato a lezione, ecco come funziona: vengono costruiti una moltitudine di Decision Tree durante il training e il risultato finale dato dal classificatore è il risultato scelto dalla maggior parte dei Decision Tree creati. Questo classificatore dovrebbe migliorare l'accuracy del modello."
   ]
  },
  {
   "cell_type": "code",
   "execution_count": null,
   "id": "63800061",
   "metadata": {
    "scrolled": true
   },
   "outputs": [],
   "source": [
    "clf = RandomForestClassifier()\n",
    "clf.fit(X_train, y_train)\n",
    "\n",
    "y_pred = clf.predict(X_test)\n",
    "accuracy_lr = clf.score(X_test,y_test)\n",
    "\n",
    "print(clf)\n",
    "print('\\n')\n",
    "print(\"Accuracy: {:.3f}%\".format(accuracy_lr*100))"
   ]
  },
  {
   "cell_type": "markdown",
   "id": "5e8fc97e",
   "metadata": {},
   "source": [
    "L'accuracy del modello non è male, per avere maggiori informazioni sulla classificazione vado ad analizzare:\n",
    "- la confusion matrix che ci mostra il numero di falsi positivi/negativi oltre al numero di combattimenti correttamente classificati\n",
    "- la precision\n",
    "- la recall\n",
    "- f1-score"
   ]
  },
  {
   "cell_type": "code",
   "execution_count": null,
   "id": "642d9f47",
   "metadata": {
    "scrolled": true
   },
   "outputs": [],
   "source": [
    "print('\\n')\n",
    "cm_lr = confusion_matrix(y_test,clf.predict(X_test))\n",
    "f, ax = plt.subplots(figsize = (5,5))\n",
    "sns.heatmap(cm_lr, annot = True, linewidths = 0.5, color = \"red\", fmt = \".0f\", ax=ax)\n",
    "plt.xlabel(\"y_predicted\")\n",
    "plt.ylabel(\"y_true\")\n",
    "plt.title(\"Confusion Matrix of Random Forest Classifier\")\n",
    "plt.show()\n",
    "print('\\n\\n')\n",
    "print(classification_report(y_test,y_pred))\n",
    "print('\\n\\n')"
   ]
  },
  {
   "cell_type": "markdown",
   "id": "9041da5a",
   "metadata": {},
   "source": [
    "La random forest, come ipotizzato, ha prestazioni migliori del Decision Tree"
   ]
  }
 ],
 "metadata": {
  "kernelspec": {
   "display_name": "Python 3",
   "language": "python",
   "name": "python3"
  },
  "language_info": {
   "codemirror_mode": {
    "name": "ipython",
    "version": 3
   },
   "file_extension": ".py",
   "mimetype": "text/x-python",
   "name": "python",
   "nbconvert_exporter": "python",
   "pygments_lexer": "ipython3",
   "version": "3.8.8"
  }
 },
 "nbformat": 4,
 "nbformat_minor": 5
}
